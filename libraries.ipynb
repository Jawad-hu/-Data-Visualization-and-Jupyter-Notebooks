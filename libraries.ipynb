{
 "cells": [
  {
   "cell_type": "markdown",
   "metadata": {},
   "source": [
    "1. Pandas \n",
    "2. numpy\n",
    "3. Matplotlib\n",
    "4. seaborn\n",
    "5. plotly \n",
    "6. scipy\n",
    "7. scikit-learn \n",
    "8. streamlit\n",
    "   "
   ]
  }
 ],
 "metadata": {
  "language_info": {
   "name": "python"
  }
 },
 "nbformat": 4,
 "nbformat_minor": 2
}
